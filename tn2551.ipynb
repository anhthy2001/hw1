{
  "nbformat": 4,
  "nbformat_minor": 0,
  "metadata": {
    "colab": {
      "provenance": [],
      "authorship_tag": "ABX9TyOpbm0KQJr4AMEhnpLBVFiN",
      "include_colab_link": true
    },
    "kernelspec": {
      "name": "python3",
      "display_name": "Python 3"
    },
    "language_info": {
      "name": "python"
    }
  },
  "cells": [
    {
      "cell_type": "markdown",
      "metadata": {
        "id": "view-in-github",
        "colab_type": "text"
      },
      "source": [
        "<a href=\"https://colab.research.google.com/github/anhthy2001/hw1/blob/main/tn2551.ipynb\" target=\"_parent\"><img src=\"https://colab.research.google.com/assets/colab-badge.svg\" alt=\"Open In Colab\"/></a>"
      ]
    },
    {
      "cell_type": "markdown",
      "source": [
        "WhoAmI"
      ],
      "metadata": {
        "id": "_5eCjSOS36NQ"
      }
    },
    {
      "cell_type": "code",
      "execution_count": 8,
      "metadata": {
        "id": "EKKQuFvsuh_a",
        "colab": {
          "base_uri": "https://localhost:8080/"
        },
        "outputId": "07bed17a-7b84-42de-a593-10c6af819636"
      },
      "outputs": [
        {
          "output_type": "stream",
          "name": "stdout",
          "text": [
            "tn2551\n"
          ]
        }
      ],
      "source": [
        "def WhoAmI():\n",
        "  return(\"tn2551\")\n",
        "print(WhoAmI())"
      ]
    },
    {
      "cell_type": "markdown",
      "source": [
        "getBondPrice ppy = 1 and 2"
      ],
      "metadata": {
        "id": "3-SRv_T70A5f"
      }
    },
    {
      "source": [
        "def getBondPrice(y, face, couponRate, m, ppy = 1):\n",
        "  periods = m * ppy\n",
        "  couponPayment = (couponRate * face) / ppy\n",
        "  period_ytm = y / ppy\n",
        "  bondPrice = sum((couponPayment)/(1 +period_ytm)**(t) for t in range (1, periods+1)) + face / (1 + period_ytm) ** (periods)\n",
        "  return(bondPrice)\n",
        "\n",
        "y = 0.03\n",
        "couponRate = 0.04\n",
        "face = 2000000\n",
        "m = 10\n",
        "\n",
        "annualBondValue = getBondPrice(y, face, couponRate, m, ppy = 1)\n",
        "\n",
        "semiBondValue = getBondPrice(y, face, couponRate, m, ppy = 2)\n",
        "print(f\"Bond Price (Annual): ${annualBondValue:.2f}\")\n",
        "print(f\"Bond Price (SemiAnnual): ${semiBondValue:.2f}\")\n",
        "\n",
        "\n",
        "\n"
      ],
      "cell_type": "code",
      "metadata": {
        "colab": {
          "base_uri": "https://localhost:8080/"
        },
        "id": "e9-Tp9AZlHPE",
        "outputId": "e1516df0-525b-49f8-96df-e3dae2cf02ea"
      },
      "execution_count": null,
      "outputs": [
        {
          "output_type": "stream",
          "name": "stdout",
          "text": [
            "Bond Price (Annual): $2170604.06\n",
            "Bond Price (SemiAnnual): $2171686.39\n"
          ]
        }
      ]
    },
    {
      "cell_type": "markdown",
      "source": [
        "getBondDuration"
      ],
      "metadata": {
        "id": "6cobo5EYFGSa"
      }
    },
    {
      "source": [
        "def getBondDuration(y, face, couponRate, bondValue, m, ppy):\n",
        "    couponPayment = (couponRate * face) / ppy\n",
        "    periods = m * ppy\n",
        "    period_ytm = y / ppy\n",
        "\n",
        "    weightedPV = sum([(t * couponPayment) / ((1 + period_ytm)**(t)) for t in range(1, int(m) * int(ppy) + 1)])\n",
        "    weightedPV = weightedPV + (periods * face) / (1 + period_ytm)**periods\n",
        "\n",
        "    bondDuration = weightedPV / bondValue\n",
        "\n",
        "    return bondDuration\n",
        "\n",
        "y = 0.03\n",
        "couponRate = 0.04\n",
        "face = 2000000\n",
        "m = 10\n",
        "ppy = 1\n",
        "\n",
        "bondValue = getBondPrice(y, face, couponRate, m, ppy)\n",
        "Duration = getBondDuration(y, face, couponRate, bondValue, m, ppy)\n",
        "\n",
        "\n",
        "print(f\"Bond Price: ${bondValue:.2f}\")\n",
        "print(f\"Bond Duration: {Duration:.2f}\")\n"
      ],
      "cell_type": "code",
      "metadata": {
        "colab": {
          "base_uri": "https://localhost:8080/"
        },
        "id": "kx8rLiLgFBbc",
        "outputId": "15722bec-aeac-463a-f24d-f83f471b706f"
      },
      "execution_count": 13,
      "outputs": [
        {
          "output_type": "stream",
          "name": "stdout",
          "text": [
            "Bond Price: $2170604.06\n",
            "Bond Duration: 8.51\n"
          ]
        }
      ]
    },
    {
      "cell_type": "markdown",
      "source": [
        "BOND Price E"
      ],
      "metadata": {
        "id": "tgJ-UuIZJQrJ"
      }
    },
    {
      "cell_type": "code",
      "source": [
        "def getBondPrice_E(face, couponRate, m, yc):\n",
        "\n",
        "    couponPayment = couponRate * face\n",
        "    bondPrice = sum((couponPayment) / (1 + yc[t-1]) ** t for t in range(1, m + 1))\n",
        "\n",
        "    bondPrice += face / (1 + yc[m-1]) ** m\n",
        "\n",
        "    return bondPrice\n",
        "\n",
        "\n",
        "yc = [0.010, 0.015, 0.020, 0.025, 0.030]\n",
        "face = 2000000\n",
        "couponRate = 0.04\n",
        "m = 5\n",
        "\n",
        "bondValue_E = getBondPrice_E(face, couponRate, m, yc)\n",
        "\n",
        "print(f\"Bond Price (E): ${bondValue_E:,.2f}\")"
      ],
      "metadata": {
        "colab": {
          "base_uri": "https://localhost:8080/"
        },
        "id": "toghe38BFytC",
        "outputId": "32b265a4-5fa2-4b87-fdae-e55869711212"
      },
      "execution_count": 16,
      "outputs": [
        {
          "output_type": "stream",
          "name": "stdout",
          "text": [
            "Bond Price (E): $2,098,948.97\n"
          ]
        }
      ]
    },
    {
      "cell_type": "markdown",
      "source": [
        "Bond Price Z"
      ],
      "metadata": {
        "id": "pGegtzwthSRo"
      }
    },
    {
      "cell_type": "code",
      "source": [
        "def getBondPrice_Z(face, couponRate, m, yc):\n",
        "\n",
        "    couponPayment = couponRate * face\n",
        "\n",
        "    bondPrice = sum((couponPayment) / (1 + yc[i]) ** m[i] for i in range(len(m)))\n",
        "\n",
        "    bondPrice += face / (1 + yc[-1]) ** m[-1]\n",
        "\n",
        "    return bondPrice\n",
        "\n",
        "\n",
        "yc = [0.010, 0.015, 0.020, 0.025, 0.030]\n",
        "face = 2000000\n",
        "couponRate = 0.04\n",
        "m = [1,1.5,3,4,7]\n",
        "\n",
        "bondValue_Z = getBondPrice_Z(face, couponRate, m, yc)\n",
        "\n",
        "print(f\"Bond Price (Z): ${bondValue_Z:,.2f}\")"
      ],
      "metadata": {
        "colab": {
          "base_uri": "https://localhost:8080/"
        },
        "id": "H-vD7K_VhbXa",
        "outputId": "95af5d91-6678-4d02-c2f1-70f32e6f02fc"
      },
      "execution_count": 18,
      "outputs": [
        {
          "output_type": "stream",
          "name": "stdout",
          "text": [
            "Bond Price (Z): $1,996,533.27\n"
          ]
        }
      ]
    },
    {
      "cell_type": "markdown",
      "source": [
        "FizzBuzz"
      ],
      "metadata": {
        "id": "NB-RmYwsJYvb"
      }
    },
    {
      "cell_type": "code",
      "source": [
        "def FizzBuzz(start, finish):\n",
        "  outlist =[]\n",
        "  for i in range(start, finish+1):\n",
        "    if i % 3 == 0 and i % 5 == 0:\n",
        "      outlist.append(\"fizzbuzz\")\n",
        "    elif i % 3 == 0 and i % 5 != 0 :\n",
        "      outlist.append(\"fizz\")\n",
        "    elif i % 5 == 0 and i%3!=0:\n",
        "      outlist.append(\"buzz\")\n",
        "    else:\n",
        "      outlist.append(i)\n",
        "\n",
        "  return(outlist)\n"
      ],
      "metadata": {
        "colab": {
          "base_uri": "https://localhost:8080/"
        },
        "id": "unU2yqTxJf_Y",
        "outputId": "1c8ba940-4c0d-495a-c5e5-33ea5e64e560"
      },
      "execution_count": 42,
      "outputs": [
        {
          "output_type": "stream",
          "name": "stdout",
          "text": [
            "['buzz', 41, 'fizz', 43, 44, 'fizzbuzz']\n"
          ]
        }
      ]
    },
    {
      "cell_type": "markdown",
      "source": [
        "MatMult1"
      ],
      "metadata": {
        "id": "NFnEmVm4JZS_"
      }
    },
    {
      "source": [
        "def MyMatMult(a,b):\n",
        "  rows_a = len(a)\n",
        "  rows_b = len(b)\n",
        "  cols_b = len(b[0])\n",
        "  cols_a = len(a[0])\n",
        "\n",
        "  if cols_a != rows_b:\n",
        "    return(\"Matrix Multiplication Not Possible\")\n",
        "\n",
        "  result_c = [[0 for _ in range(cols_b)] for _ in range(rows_a)]\n",
        "  for i in range(rows_a):\n",
        "    for j in range(cols_b):\n",
        "      for k in range(cols_a):\n",
        "        result_c[i][j] += a[i][k] * b[k][j]\n",
        "\n",
        "  return result_c\n",
        "\n",
        "a = [[1, 2, 3]]\n",
        "b = [[1], [4], [7]]\n",
        "result_c = MyMatMult(a,b)\n",
        "for row in result_c:\n",
        "  print(row)"
      ],
      "cell_type": "code",
      "metadata": {
        "colab": {
          "base_uri": "https://localhost:8080/"
        },
        "id": "4qG75zaFmOfX",
        "outputId": "67311cf7-4d40-4e6b-c3a3-5b9d661e639d"
      },
      "execution_count": null,
      "outputs": [
        {
          "output_type": "stream",
          "name": "stdout",
          "text": [
            "[30]\n"
          ]
        }
      ]
    },
    {
      "cell_type": "markdown",
      "source": [
        "MyMult2"
      ],
      "metadata": {
        "id": "d88i1ohemZYw"
      }
    },
    {
      "cell_type": "code",
      "source": [
        "def MyMatMult2(a,b):\n",
        "  rows_a = len(a)\n",
        "  rows_b = len(b)\n",
        "  cols_b = len(b[0])\n",
        "  cols_a = len(a[0])\n",
        "\n",
        "  if cols_a != rows_b:\n",
        "    return(\"Matrix Multiplication Not Possible\")\n",
        "\n",
        "  result_c = [[0 for _ in range(cols_b)] for _ in range(rows_a)]\n",
        "  for i in range(rows_a):\n",
        "    for j in range(cols_b):\n",
        "      for k in range(cols_a):\n",
        "        result_c[i][j] += a[i][k] * b[k][j]\n",
        "\n",
        "  return result_c\n",
        "\n",
        "a = [[1, 2, 3]]\n",
        "b = [[1, 2, 3],\n",
        "     [4, 5, 6],\n",
        "     [7, 8, 9]]\n",
        "result_c = MyMatMult(a,b)\n",
        "for row in result_c:\n",
        "  print(row)"
      ],
      "metadata": {
        "colab": {
          "base_uri": "https://localhost:8080/"
        },
        "id": "BhAalvMemb1h",
        "outputId": "3c141d05-bd8e-4567-94eb-b0f7b6dbf0c7"
      },
      "execution_count": null,
      "outputs": [
        {
          "output_type": "stream",
          "name": "stdout",
          "text": [
            "[30, 36, 42]\n"
          ]
        }
      ]
    },
    {
      "cell_type": "code",
      "source": [
        "def test_WhoAmI():\n",
        "    assert WhoAmI() != 'djr2132'\n",
        "\n",
        "def test_getBondPrice():\n",
        "    assert round(getBondPrice(.03, 2000000, .04, 10,  1)) == 2170604\n",
        "    assert round(getBondPrice(.03, 2000000, .04, 10,  2)) == 2171686\n",
        "\n",
        "\n",
        "def test_getBondDuration():\n",
        "    bondValue = getBondPrice(.03, 2000000, .04, 10,  1)\n",
        "    assert round(getBondDuration(.03, 2000000, .04, bondValue,10, 1),2) == 8.51\n",
        "\n",
        "def test_GetBondPriceE():\n",
        "    yc = [.010,.015,.020,.025,.030]\n",
        "    face = 2000000\n",
        "    m = 5\n",
        "    couponRate = .04\n",
        "    assert round(getBondPrice_E(face, couponRate, m, yc)) == 2098949\n",
        "\n",
        "def test_GetBondPriceZ():\n",
        "    yc = [.010,.015,.020,.025,.030]\n",
        "    times=[1,1.5,3,4,7]\n",
        "    face = 2000000\n",
        "    couponRate = .04\n",
        "    x = getBondPrice_Z(face, couponRate, times, yc)\n",
        "    assert round(x) == 1996533\n",
        "\n",
        "def test_FizzBuzz():\n",
        "    x = FizzBuzz(40,45)\n",
        "    assert x[0] == \"buzz\"\n",
        "    assert x[1] == 41\n",
        "    assert x[5] == \"fizzbuzz\"\n",
        "\n"
      ],
      "metadata": {
        "id": "p9DH0ynUkK9A"
      },
      "execution_count": 45,
      "outputs": []
    },
    {
      "cell_type": "code",
      "source": [
        "test_WhoAmI()\n",
        "test_getBondPrice()\n",
        "test_getBondDuration()\n",
        "test_GetBondPriceE()\n",
        "test_GetBondPriceZ()\n",
        "test_FizzBuzz()"
      ],
      "metadata": {
        "id": "3Ov5NIxJmdzb"
      },
      "execution_count": 46,
      "outputs": []
    },
    {
      "cell_type": "code",
      "source": [],
      "metadata": {
        "id": "5eMEq2dJpQ1t"
      },
      "execution_count": null,
      "outputs": []
    }
  ]
}